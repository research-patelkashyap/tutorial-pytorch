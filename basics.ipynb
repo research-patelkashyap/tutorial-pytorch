{
 "cells": [
  {
   "cell_type": "markdown",
   "metadata": {},
   "source": [
    "# Tensors\n",
    "\n",
    "* Tensors are specialized data structures that are similar to arrays and matrices."
   ]
  },
  {
   "cell_type": "code",
   "execution_count": 1,
   "metadata": {},
   "outputs": [],
   "source": [
    "import torch\n",
    "import numpy as np"
   ]
  },
  {
   "cell_type": "markdown",
   "metadata": {},
   "source": [
    "## Directly from Data"
   ]
  },
  {
   "cell_type": "code",
   "execution_count": 2,
   "metadata": {},
   "outputs": [
    {
     "data": {
      "text/plain": [
       "tensor([[1, 2],\n",
       "        [3, 4]])"
      ]
     },
     "execution_count": 2,
     "metadata": {},
     "output_type": "execute_result"
    }
   ],
   "source": [
    "data = [[1, 2],[3, 4]]\n",
    "x_data = torch.tensor(data)\n",
    "x_data"
   ]
  },
  {
   "cell_type": "markdown",
   "metadata": {},
   "source": [
    "## From Numpy Array\n",
    "\n",
    "* When a tensor is created directly from a NumPy array, both share the same underlying memory location. This means that modifying the contents of one (either the NumPy array or the tensor) will reflect in the other."
   ]
  },
  {
   "cell_type": "code",
   "execution_count": 3,
   "metadata": {},
   "outputs": [
    {
     "name": "stdout",
     "output_type": "stream",
     "text": [
      "Numpy np_array value: \n",
      " [[1 2]\n",
      " [3 4]] \n",
      "\n",
      "Tensor x_np value: \n",
      " tensor([[1, 2],\n",
      "        [3, 4]]) \n",
      "\n",
      "Numpy np_array after * 2 operation: \n",
      " [[2 4]\n",
      " [6 8]] \n",
      "\n",
      "Tensor x_np value after modifying numpy array: \n",
      " tensor([[2, 4],\n",
      "        [6, 8]]) \n",
      "\n"
     ]
    }
   ],
   "source": [
    "np_array = np.array(data)\n",
    "x_np = torch.from_numpy(np_array)\n",
    "\n",
    "print(f\"Numpy np_array value: \\n {np_array} \\n\")\n",
    "print(f\"Tensor x_np value: \\n {x_np} \\n\")\n",
    "\n",
    "np.multiply(np_array, 2, out=np_array)\n",
    "\n",
    "print(f\"Numpy np_array after * 2 operation: \\n {np_array} \\n\")\n",
    "print(f\"Tensor x_np value after modifying numpy array: \\n {x_np} \\n\")"
   ]
  },
  {
   "cell_type": "markdown",
   "metadata": {},
   "source": [
    "## From Another Tensor"
   ]
  },
  {
   "cell_type": "code",
   "execution_count": 4,
   "metadata": {},
   "outputs": [
    {
     "name": "stdout",
     "output_type": "stream",
     "text": [
      "Ones Tensor: \n",
      " tensor([[1, 1],\n",
      "        [1, 1]]) \n",
      "\n",
      "Random Tensor: \n",
      " tensor([[0.3825, 0.3551],\n",
      "        [0.4537, 0.9124]]) \n",
      "\n"
     ]
    }
   ],
   "source": [
    "x_ones = torch.ones_like(x_data) # retains the properties of x_data\n",
    "print(f\"Ones Tensor: \\n {x_ones} \\n\")\n",
    "\n",
    "x_rand = torch.rand_like(x_data, dtype=torch.float) # overrides the datatype of x_data\n",
    "print(f\"Random Tensor: \\n {x_rand} \\n\")"
   ]
  },
  {
   "cell_type": "markdown",
   "metadata": {},
   "source": [
    "## With Random or Constant Values"
   ]
  },
  {
   "cell_type": "code",
   "execution_count": 5,
   "metadata": {},
   "outputs": [
    {
     "name": "stdout",
     "output_type": "stream",
     "text": [
      "Random Tensor: \n",
      " tensor([[0.3714, 0.6878, 0.4040],\n",
      "        [0.8650, 0.6712, 0.6861]]) \n",
      "\n",
      "Ones Tensor: \n",
      " tensor([[1., 1., 1.],\n",
      "        [1., 1., 1.]]) \n",
      "\n",
      "Zeros Tensor: \n",
      " tensor([[0., 0., 0.],\n",
      "        [0., 0., 0.]])\n"
     ]
    }
   ],
   "source": [
    "shape = (2,3)\n",
    "rand_tensor = torch.rand(shape)\n",
    "ones_tensor = torch.ones(shape)\n",
    "zeros_tensor = torch.zeros(shape)\n",
    "\n",
    "print(f\"Random Tensor: \\n {rand_tensor} \\n\")\n",
    "print(f\"Ones Tensor: \\n {ones_tensor} \\n\")\n",
    "print(f\"Zeros Tensor: \\n {zeros_tensor}\")"
   ]
  },
  {
   "cell_type": "markdown",
   "metadata": {},
   "source": [
    "## Tensor Attributes"
   ]
  },
  {
   "cell_type": "code",
   "execution_count": 6,
   "metadata": {},
   "outputs": [
    {
     "name": "stdout",
     "output_type": "stream",
     "text": [
      "Shape of tensor: torch.Size([3, 4])\n",
      "Datatype of tensor: torch.float32\n",
      "Device tensor is stored on: cpu\n"
     ]
    }
   ],
   "source": [
    "tensor = torch.rand(3,4)\n",
    "\n",
    "print(f\"Shape of tensor: {tensor.shape}\")\n",
    "print(f\"Datatype of tensor: {tensor.dtype}\")\n",
    "print(f\"Device tensor is stored on: {tensor.device}\")"
   ]
  },
  {
   "cell_type": "markdown",
   "metadata": {},
   "source": [
    "## MPS Availability"
   ]
  },
  {
   "cell_type": "code",
   "execution_count": 8,
   "metadata": {},
   "outputs": [],
   "source": [
    "if torch.backends.mps.is_available():\n",
    "  tensor = tensor.to('mps')"
   ]
  },
  {
   "cell_type": "code",
   "execution_count": 9,
   "metadata": {},
   "outputs": [
    {
     "data": {
      "text/plain": [
       "device(type='mps', index=0)"
      ]
     },
     "execution_count": 9,
     "metadata": {},
     "output_type": "execute_result"
    }
   ],
   "source": [
    "tensor.device"
   ]
  },
  {
   "cell_type": "markdown",
   "metadata": {},
   "source": [
    "## Indexing and Slicing"
   ]
  },
  {
   "cell_type": "code",
   "execution_count": 10,
   "metadata": {},
   "outputs": [
    {
     "name": "stdout",
     "output_type": "stream",
     "text": [
      "First row:  tensor([1., 1., 1., 1.])\n",
      "First column:  tensor([1., 1., 1., 1.])\n",
      "Last column: tensor([1., 1., 1., 1.])\n",
      "tensor([[1., 0., 1., 1.],\n",
      "        [1., 0., 1., 1.],\n",
      "        [1., 0., 1., 1.],\n",
      "        [1., 0., 1., 1.]])\n"
     ]
    }
   ],
   "source": [
    "tensor = torch.ones(4, 4)\n",
    "print('First row: ',tensor[0])\n",
    "print('First column: ', tensor[:, 0])\n",
    "print('Last column:', tensor[..., -1])\n",
    "tensor[:,1] = 0\n",
    "print(tensor)"
   ]
  },
  {
   "cell_type": "markdown",
   "metadata": {},
   "source": [
    "## Joining Tensor"
   ]
  },
  {
   "cell_type": "code",
   "execution_count": 11,
   "metadata": {},
   "outputs": [
    {
     "data": {
      "text/plain": [
       "tensor([[1., 0., 1., 1., 1., 0., 1., 1., 1., 0., 1., 1.],\n",
       "        [1., 0., 1., 1., 1., 0., 1., 1., 1., 0., 1., 1.],\n",
       "        [1., 0., 1., 1., 1., 0., 1., 1., 1., 0., 1., 1.],\n",
       "        [1., 0., 1., 1., 1., 0., 1., 1., 1., 0., 1., 1.]])"
      ]
     },
     "execution_count": 11,
     "metadata": {},
     "output_type": "execute_result"
    }
   ],
   "source": [
    "t1 = torch.cat([tensor, tensor, tensor], dim=1)\n",
    "t1"
   ]
  },
  {
   "cell_type": "markdown",
   "metadata": {},
   "source": [
    "## Arithmetic operations"
   ]
  },
  {
   "cell_type": "code",
   "execution_count": 12,
   "metadata": {},
   "outputs": [
    {
     "name": "stdout",
     "output_type": "stream",
     "text": [
      "y1: tensor([[3., 3., 3., 3.],\n",
      "        [3., 3., 3., 3.],\n",
      "        [3., 3., 3., 3.],\n",
      "        [3., 3., 3., 3.]])\n",
      "y2: tensor([[3., 3., 3., 3.],\n",
      "        [3., 3., 3., 3.],\n",
      "        [3., 3., 3., 3.],\n",
      "        [3., 3., 3., 3.]])\n",
      "y3: tensor([[3., 3., 3., 3.],\n",
      "        [3., 3., 3., 3.],\n",
      "        [3., 3., 3., 3.],\n",
      "        [3., 3., 3., 3.]])\n",
      "z1: tensor([[1., 0., 1., 1.],\n",
      "        [1., 0., 1., 1.],\n",
      "        [1., 0., 1., 1.],\n",
      "        [1., 0., 1., 1.]])\n",
      "z2: tensor([[1., 0., 1., 1.],\n",
      "        [1., 0., 1., 1.],\n",
      "        [1., 0., 1., 1.],\n",
      "        [1., 0., 1., 1.]])\n",
      "z3: tensor([[1., 0., 1., 1.],\n",
      "        [1., 0., 1., 1.],\n",
      "        [1., 0., 1., 1.],\n",
      "        [1., 0., 1., 1.]])\n"
     ]
    }
   ],
   "source": [
    "# This computes the matrix multiplication between two tensors. y1, y2, y3 will have the same value\n",
    "y1 = tensor @ tensor.T\n",
    "print(f\"y1: {y1}\")\n",
    "y2 = tensor.matmul(tensor.T)\n",
    "print(f\"y2: {y2}\")\n",
    "y3 = torch.rand_like(tensor)\n",
    "torch.matmul(tensor, tensor.T, out=y3)\n",
    "print(f\"y3: {y3}\")\n",
    "\n",
    "\n",
    "# This computes the element-wise product. z1, z2, z3 will have the same value\n",
    "z1 = tensor * tensor\n",
    "print(f\"z1: {z1}\")\n",
    "z2 = tensor.mul(tensor)\n",
    "print(f\"z2: {z2}\")\n",
    "z3 = torch.rand_like(tensor)\n",
    "torch.mul(tensor, tensor, out=z3)\n",
    "print(f\"z3: {z3}\")"
   ]
  },
  {
   "cell_type": "markdown",
   "metadata": {},
   "source": [
    "## Single Element Tensor"
   ]
  },
  {
   "cell_type": "code",
   "execution_count": 13,
   "metadata": {},
   "outputs": [
    {
     "name": "stdout",
     "output_type": "stream",
     "text": [
      "12.0 <class 'float'>\n"
     ]
    }
   ],
   "source": [
    "agg = tensor.sum()\n",
    "agg_item = agg.item()  \n",
    "print(agg_item, type(agg_item))"
   ]
  },
  {
   "cell_type": "markdown",
   "metadata": {},
   "source": [
    "## In Place Operations"
   ]
  },
  {
   "cell_type": "code",
   "execution_count": 14,
   "metadata": {},
   "outputs": [
    {
     "name": "stdout",
     "output_type": "stream",
     "text": [
      "tensor([[1., 0., 1., 1.],\n",
      "        [1., 0., 1., 1.],\n",
      "        [1., 0., 1., 1.],\n",
      "        [1., 0., 1., 1.]]) \n",
      "\n",
      "tensor([[6., 5., 6., 6.],\n",
      "        [6., 5., 6., 6.],\n",
      "        [6., 5., 6., 6.],\n",
      "        [6., 5., 6., 6.]])\n"
     ]
    }
   ],
   "source": [
    "print(tensor, \"\\n\")\n",
    "tensor.add_(5)\n",
    "print(tensor)"
   ]
  },
  {
   "cell_type": "markdown",
   "metadata": {},
   "source": [
    "## Tensor to Numpy Array"
   ]
  },
  {
   "cell_type": "code",
   "execution_count": 15,
   "metadata": {},
   "outputs": [
    {
     "name": "stdout",
     "output_type": "stream",
     "text": [
      "t: tensor([1., 1., 1., 1., 1.])\n",
      "n: [1. 1. 1. 1. 1.]\n"
     ]
    }
   ],
   "source": [
    "t = torch.ones(5)\n",
    "print(f\"t: {t}\")\n",
    "n = t.numpy()\n",
    "print(f\"n: {n}\")"
   ]
  },
  {
   "cell_type": "code",
   "execution_count": 16,
   "metadata": {},
   "outputs": [
    {
     "name": "stdout",
     "output_type": "stream",
     "text": [
      "t: tensor([2., 2., 2., 2., 2.])\n",
      "n: [2. 2. 2. 2. 2.]\n"
     ]
    }
   ],
   "source": [
    "t.add_(1)\n",
    "print(f\"t: {t}\")\n",
    "print(f\"n: {n}\")"
   ]
  },
  {
   "cell_type": "markdown",
   "metadata": {},
   "source": [
    "# Datasets and Dataloaders"
   ]
  },
  {
   "cell_type": "markdown",
   "metadata": {},
   "source": [
    "## Loading Dataset\n",
    "\n",
    "Dataset stores the samples and their corresponding labels, and DataLoader wraps an iterable around the Dataset to enable easy access to the samples.\n",
    "\n",
    "* root is the path where the train/test data is stored.\n",
    "* train specifies training or test dataset.\n",
    "* download=True downloads the data from the Internet if it's not available at root.\n",
    "* transform and target_transform specify the feature and label transformations."
   ]
  },
  {
   "cell_type": "code",
   "execution_count": 18,
   "metadata": {},
   "outputs": [
    {
     "name": "stdout",
     "output_type": "stream",
     "text": [
      "Downloading http://fashion-mnist.s3-website.eu-central-1.amazonaws.com/train-images-idx3-ubyte.gz\n",
      "Downloading http://fashion-mnist.s3-website.eu-central-1.amazonaws.com/train-images-idx3-ubyte.gz to data/FashionMNIST/raw/train-images-idx3-ubyte.gz\n"
     ]
    },
    {
     "name": "stderr",
     "output_type": "stream",
     "text": [
      "100%|██████████| 26421880/26421880 [02:17<00:00, 191806.96it/s]\n"
     ]
    },
    {
     "name": "stdout",
     "output_type": "stream",
     "text": [
      "Extracting data/FashionMNIST/raw/train-images-idx3-ubyte.gz to data/FashionMNIST/raw\n",
      "\n",
      "Downloading http://fashion-mnist.s3-website.eu-central-1.amazonaws.com/train-labels-idx1-ubyte.gz\n",
      "Downloading http://fashion-mnist.s3-website.eu-central-1.amazonaws.com/train-labels-idx1-ubyte.gz to data/FashionMNIST/raw/train-labels-idx1-ubyte.gz\n"
     ]
    },
    {
     "name": "stderr",
     "output_type": "stream",
     "text": [
      "100%|██████████| 29515/29515 [00:00<00:00, 186135.89it/s]\n"
     ]
    },
    {
     "name": "stdout",
     "output_type": "stream",
     "text": [
      "Extracting data/FashionMNIST/raw/train-labels-idx1-ubyte.gz to data/FashionMNIST/raw\n",
      "\n",
      "Downloading http://fashion-mnist.s3-website.eu-central-1.amazonaws.com/t10k-images-idx3-ubyte.gz\n",
      "Downloading http://fashion-mnist.s3-website.eu-central-1.amazonaws.com/t10k-images-idx3-ubyte.gz to data/FashionMNIST/raw/t10k-images-idx3-ubyte.gz\n"
     ]
    },
    {
     "name": "stderr",
     "output_type": "stream",
     "text": [
      "100%|██████████| 4422102/4422102 [00:24<00:00, 182339.16it/s]\n"
     ]
    },
    {
     "name": "stdout",
     "output_type": "stream",
     "text": [
      "Extracting data/FashionMNIST/raw/t10k-images-idx3-ubyte.gz to data/FashionMNIST/raw\n",
      "\n",
      "Downloading http://fashion-mnist.s3-website.eu-central-1.amazonaws.com/t10k-labels-idx1-ubyte.gz\n",
      "Downloading http://fashion-mnist.s3-website.eu-central-1.amazonaws.com/t10k-labels-idx1-ubyte.gz to data/FashionMNIST/raw/t10k-labels-idx1-ubyte.gz\n"
     ]
    },
    {
     "name": "stderr",
     "output_type": "stream",
     "text": [
      "100%|██████████| 5148/5148 [00:00<00:00, 871218.41it/s]"
     ]
    },
    {
     "name": "stdout",
     "output_type": "stream",
     "text": [
      "Extracting data/FashionMNIST/raw/t10k-labels-idx1-ubyte.gz to data/FashionMNIST/raw\n",
      "\n"
     ]
    },
    {
     "name": "stderr",
     "output_type": "stream",
     "text": [
      "\n"
     ]
    }
   ],
   "source": [
    "from torch.utils.data import Dataset\n",
    "from torchvision import datasets\n",
    "from torchvision.transforms import ToTensor, Lambda\n",
    "import matplotlib.pyplot as plt\n",
    "\n",
    "training_data = datasets.FashionMNIST(\n",
    "    root=\"data\",\n",
    "    train=True,\n",
    "    download=True,\n",
    "    transform=ToTensor()\n",
    ")\n",
    "\n",
    "test_data = datasets.FashionMNIST(\n",
    "    root=\"data\",\n",
    "    train=False,\n",
    "    download=True,\n",
    "    transform=ToTensor()\n",
    ")"
   ]
  },
  {
   "cell_type": "markdown",
   "metadata": {},
   "source": [
    "## Visualizing Dataset"
   ]
  },
  {
   "cell_type": "code",
   "execution_count": 19,
   "metadata": {},
   "outputs": [
    {
     "data": {
      "image/png": "[encoded data removed]",
      "text/plain": [
       "<Figure size 800x800 with 9 Axes>"
      ]
     },
     "metadata": {},
     "output_type": "display_data"
    }
   ],
   "source": [
    "labels_map = {\n",
    "    0: \"T-Shirt\",\n",
    "    1: \"Trouser\",\n",
    "    2: \"Pullover\",\n",
    "    3: \"Dress\",\n",
    "    4: \"Coat\",\n",
    "    5: \"Sandal\",\n",
    "    6: \"Shirt\",\n",
    "    7: \"Sneaker\",\n",
    "    8: \"Bag\",\n",
    "    9: \"Ankle Boot\",\n",
    "}\n",
    "figure = plt.figure(figsize=(8, 8))\n",
    "cols, rows = 3, 3\n",
    "for i in range(1, cols * rows + 1):\n",
    "    sample_idx = torch.randint(len(training_data), size=(1,)).item()\n",
    "    img, label = training_data[sample_idx]\n",
    "    figure.add_subplot(rows, cols, i)\n",
    "    plt.title(labels_map[label])\n",
    "    plt.axis(\"off\")\n",
    "    plt.imshow(img.squeeze(), cmap=\"gray\")\n",
    "plt.show()"
   ]
  },
  {
   "cell_type": "markdown",
   "metadata": {},
   "source": [
    "## Preparing Training Data\n",
    "\n",
    "* data: The training data we'll use to train the model, and the test data to evaluate the model.\n",
    "* batch size: The number of records to be processed in each batch.\n",
    "* shuffle: The random sample of the data by indices."
   ]
  },
  {
   "cell_type": "code",
   "execution_count": 20,
   "metadata": {},
   "outputs": [],
   "source": [
    "from torch.utils.data import DataLoader"
   ]
  },
  {
   "cell_type": "code",
   "execution_count": 21,
   "metadata": {},
   "outputs": [],
   "source": [
    "train_dataloader = DataLoader(training_data, batch_size=64, shuffle=True)\n",
    "test_dataloader = DataLoader(test_data, batch_size=64, shuffle=True)"
   ]
  },
  {
   "cell_type": "code",
   "execution_count": 22,
   "metadata": {},
   "outputs": [
    {
     "name": "stdout",
     "output_type": "stream",
     "text": [
      "Feature batch shape: torch.Size([64, 1, 28, 28])\n",
      "Labels batch shape: torch.Size([64])\n"
     ]
    },
    {
     "data": {
      "image/png": "[encoded data removed]",
      "text/plain": [
       "<Figure size 640x480 with 1 Axes>"
      ]
     },
     "metadata": {},
     "output_type": "display_data"
    },
    {
     "name": "stdout",
     "output_type": "stream",
     "text": [
      "Label: Bag\n"
     ]
    }
   ],
   "source": [
    "train_features, train_labels = next(iter(train_dataloader))\n",
    "print(f\"Feature batch shape: {train_features.size()}\")\n",
    "print(f\"Labels batch shape: {train_labels.size()}\")\n",
    "img = train_features[0].squeeze()\n",
    "label = train_labels[0]\n",
    "plt.imshow(img, cmap=\"gray\")\n",
    "plt.show()\n",
    "label_name = list(labels_map.values())[label]\n",
    "print(f\"Label: {label_name}\")"
   ]
  },
  {
   "cell_type": "markdown",
   "metadata": {},
   "source": [
    "## Transformation\n",
    "\n",
    "Transforms are used to manipulate data and prepare it for training. In PyTorch's TorchVision library, all datasets include two key parameters: transform (for modifying features) and target_transform (for modifying labels). These parameters accept callables that define the transformation logic."
   ]
  },
  {
   "cell_type": "code",
   "execution_count": 23,
   "metadata": {},
   "outputs": [],
   "source": [
    "from torchvision import datasets\n",
    "from torchvision.transforms import ToTensor, Lambda\n",
    "\n",
    "ds = datasets.FashionMNIST(\n",
    "    root=\"data\",\n",
    "    train=True,\n",
    "    download=True,\n",
    "    transform=ToTensor(),\n",
    "    target_transform=Lambda(lambda y: torch.zeros(10, dtype=torch.float).scatter_(0, torch.tensor(y), value=1))\n",
    ")"
   ]
  },
  {
   "cell_type": "code",
   "execution_count": 24,
   "metadata": {},
   "outputs": [
    {
     "data": {
      "text/plain": [
       "Dataset FashionMNIST\n",
       "    Number of datapoints: 60000\n",
       "    Root location: data\n",
       "    Split: Train\n",
       "    StandardTransform\n",
       "Transform: ToTensor()\n",
       "Target transform: Lambda()"
      ]
     },
     "execution_count": 24,
     "metadata": {},
     "output_type": "execute_result"
    }
   ],
   "source": [
    "ds"
   ]
  },
  {
   "cell_type": "markdown",
   "metadata": {},
   "source": [
    "# Building Models"
   ]
  },
  {
   "cell_type": "markdown",
   "metadata": {},
   "source": [
    "## Define Class"
   ]
  },
  {
   "cell_type": "code",
   "execution_count": 25,
   "metadata": {},
   "outputs": [],
   "source": [
    "from torch import nn"
   ]
  },
  {
   "cell_type": "markdown",
   "metadata": {},
   "source": [
    "* The input layer with 28x28 or 784 features/pixels.\n",
    "* The first linear module takes the input 784 features and transforms it to a hidden layer with 512 features.\n",
    "* The ReLU activation function will be applied in the transformation.\n",
    "* The second linear module takes 512 features as input from the first hidden layer and transforms it to the next hidden layer with 512 features.\n",
    "* The ReLU activation function will be applied in the transformation.\n",
    "* The third linear module take 512 features as input from the second hidden layer and transforms those features to the output layer with 10, which is the number of classes.\n",
    "* The ReLU activation function will be applied in the transformation."
   ]
  },
  {
   "cell_type": "code",
   "execution_count": 26,
   "metadata": {},
   "outputs": [
    {
     "name": "stdout",
     "output_type": "stream",
     "text": [
      "Using mps device\n"
     ]
    }
   ],
   "source": [
    "device = 'mps' if torch.backends.mps.is_available() else 'cpu'\n",
    "print('Using {} device'.format(device))"
   ]
  },
  {
   "cell_type": "code",
   "execution_count": 27,
   "metadata": {},
   "outputs": [],
   "source": [
    "class NeuralNetwork(nn.Module):\n",
    "    def __init__(self):\n",
    "        super(NeuralNetwork, self).__init__()\n",
    "        self.flatten = nn.Flatten()\n",
    "        self.linear_relu_stack = nn.Sequential(\n",
    "            nn.Linear(28*28, 512),\n",
    "            nn.ReLU(),\n",
    "            nn.Linear(512, 512),\n",
    "            nn.ReLU(),\n",
    "            nn.Linear(512, 10),\n",
    "            nn.ReLU()\n",
    "        )\n",
    "\n",
    "    def forward(self, x):\n",
    "        x = self.flatten(x)\n",
    "        logits = self.linear_relu_stack(x)\n",
    "        return logits"
   ]
  },
  {
   "cell_type": "code",
   "execution_count": 28,
   "metadata": {},
   "outputs": [
    {
     "name": "stdout",
     "output_type": "stream",
     "text": [
      "NeuralNetwork(\n",
      "  (flatten): Flatten(start_dim=1, end_dim=-1)\n",
      "  (linear_relu_stack): Sequential(\n",
      "    (0): Linear(in_features=784, out_features=512, bias=True)\n",
      "    (1): ReLU()\n",
      "    (2): Linear(in_features=512, out_features=512, bias=True)\n",
      "    (3): ReLU()\n",
      "    (4): Linear(in_features=512, out_features=10, bias=True)\n",
      "    (5): ReLU()\n",
      "  )\n",
      ")\n"
     ]
    }
   ],
   "source": [
    "model = NeuralNetwork().to(device)\n",
    "print(model)"
   ]
  },
  {
   "cell_type": "code",
   "execution_count": 29,
   "metadata": {},
   "outputs": [
    {
     "name": "stdout",
     "output_type": "stream",
     "text": [
      "Predicted class: tensor([7], device='mps:0')\n"
     ]
    }
   ],
   "source": [
    "X = torch.rand(1, 28, 28, device=device)\n",
    "logits = model(X) \n",
    "pred_probab = nn.Softmax(dim=1)(logits)\n",
    "y_pred = pred_probab.argmax(1)\n",
    "print(f\"Predicted class: {y_pred}\")"
   ]
  },
  {
   "cell_type": "markdown",
   "metadata": {},
   "source": [
    "## Weight and Biases"
   ]
  },
  {
   "cell_type": "code",
   "execution_count": 30,
   "metadata": {},
   "outputs": [
    {
     "name": "stdout",
     "output_type": "stream",
     "text": [
      "First Linear weights: Parameter containing:\n",
      "tensor([[ 0.0102,  0.0016,  0.0197,  ...,  0.0343, -0.0204, -0.0353],\n",
      "        [ 0.0109, -0.0159,  0.0169,  ...,  0.0183,  0.0277, -0.0128],\n",
      "        [ 0.0143, -0.0213, -0.0200,  ...,  0.0030,  0.0356, -0.0185],\n",
      "        ...,\n",
      "        [-0.0007,  0.0354, -0.0300,  ...,  0.0323,  0.0327,  0.0321],\n",
      "        [ 0.0195, -0.0153,  0.0173,  ...,  0.0259,  0.0009, -0.0342],\n",
      "        [ 0.0327, -0.0345, -0.0004,  ...,  0.0043, -0.0147,  0.0090]],\n",
      "       device='mps:0', requires_grad=True) \n",
      "\n",
      "First Linear biases: Parameter containing:\n",
      "tensor([-5.3004e-03, -1.7104e-02, -2.1123e-02, -2.0188e-02, -1.1326e-02,\n",
      "         1.0873e-02,  3.5702e-02,  3.3968e-02, -2.7796e-02, -7.4486e-03,\n",
      "        -2.0755e-02,  2.3051e-02,  4.8806e-03,  1.8657e-02, -3.1216e-02,\n",
      "        -1.5101e-02, -2.3973e-02, -2.5694e-02,  1.5950e-02, -5.9867e-03,\n",
      "        -6.0845e-03, -2.6912e-02, -1.8191e-02,  2.1619e-02, -1.1859e-02,\n",
      "        -1.1167e-02,  3.2029e-02,  1.6026e-02,  2.2725e-02, -2.2231e-02,\n",
      "        -8.4556e-03,  3.3132e-02,  1.3302e-02, -1.7152e-02, -2.9110e-02,\n",
      "        -1.0211e-02, -5.6610e-03, -2.3762e-02, -3.4852e-02, -3.0468e-02,\n",
      "         1.4136e-02, -1.8024e-02,  3.4019e-02, -2.5654e-02, -2.0505e-02,\n",
      "         2.5115e-02,  1.3204e-02, -1.1135e-02,  3.0747e-02,  2.9112e-03,\n",
      "        -1.7009e-02,  5.2681e-03,  1.5624e-02,  7.4339e-03,  2.5945e-02,\n",
      "        -2.8240e-02, -7.5022e-03,  7.2257e-04,  2.9738e-02, -3.3043e-02,\n",
      "         6.2401e-03,  1.5302e-03,  4.8957e-03, -3.3089e-02,  2.3530e-02,\n",
      "        -4.6705e-03,  1.7145e-02, -2.3571e-02,  2.3174e-02, -1.1736e-02,\n",
      "         3.3989e-02,  3.4383e-02,  2.8323e-02, -3.3332e-02,  2.3142e-02,\n",
      "        -1.6913e-02,  1.3919e-02,  3.3310e-03, -1.3350e-02, -1.9359e-02,\n",
      "         4.1869e-03,  1.6602e-02, -3.3109e-02, -1.7625e-02,  2.9350e-02,\n",
      "         2.2430e-03,  3.3378e-02, -3.0552e-02,  1.3272e-02,  8.2884e-03,\n",
      "        -3.5615e-02, -3.4367e-02,  8.8438e-03, -3.1693e-02,  3.3984e-02,\n",
      "         3.2236e-02, -5.1152e-03, -2.2250e-03, -2.6171e-02, -2.9237e-03,\n",
      "         1.9352e-02,  2.2287e-02, -2.1803e-02, -3.0721e-02, -8.6138e-03,\n",
      "        -7.5763e-04,  2.9232e-02,  7.1388e-03, -2.2271e-02, -6.4771e-03,\n",
      "        -3.0784e-02, -8.9549e-04,  3.3994e-02, -1.1782e-02, -3.1121e-02,\n",
      "         3.4920e-03,  3.1020e-02, -2.4107e-02,  1.3167e-02, -3.2459e-02,\n",
      "        -2.4423e-02,  3.5681e-02, -1.0023e-02,  1.3364e-02,  2.0386e-02,\n",
      "         2.1433e-02,  1.2516e-02, -3.2165e-02,  9.3652e-05, -3.3790e-02,\n",
      "         1.8750e-02,  2.4570e-02, -3.0533e-02, -3.4004e-02,  2.4168e-02,\n",
      "        -1.7924e-02, -1.3305e-02, -2.7913e-02,  6.3104e-03, -2.7361e-02,\n",
      "        -2.0128e-02, -3.2051e-02,  1.6542e-02,  4.4104e-03, -5.7657e-03,\n",
      "        -8.4299e-03, -1.4954e-02, -6.4515e-03, -4.3568e-03,  1.7662e-02,\n",
      "         3.1418e-02, -3.2060e-02,  1.7615e-02, -2.6677e-02,  2.9356e-02,\n",
      "         9.3090e-03,  1.8292e-02, -4.9615e-04, -2.6052e-02, -1.2350e-02,\n",
      "         1.1005e-03,  3.4079e-04,  6.8844e-03,  1.9262e-02,  1.3887e-02,\n",
      "         4.3393e-03, -3.1682e-02,  6.5901e-05, -3.4524e-03,  3.4085e-03,\n",
      "        -3.3560e-02,  1.3962e-02,  5.0311e-03, -7.2275e-03,  3.0021e-03,\n",
      "        -1.5278e-02,  3.1334e-02, -6.9705e-03,  4.2959e-03, -3.2097e-02,\n",
      "         2.6020e-02,  2.8579e-02, -3.7043e-03, -3.2882e-02,  2.0960e-02,\n",
      "         1.4627e-02,  1.9880e-02, -2.5043e-02,  2.2673e-02, -3.4913e-02,\n",
      "        -1.8228e-02,  1.0970e-02,  2.1416e-02,  3.2544e-02,  4.6540e-03,\n",
      "         9.8858e-03,  2.9641e-02,  2.4408e-02,  2.9331e-03,  2.1324e-02,\n",
      "        -7.4726e-04, -1.8814e-02,  9.8685e-03, -1.2324e-02,  2.1865e-02,\n",
      "         1.7584e-02, -2.7692e-02,  2.0143e-03, -1.6587e-03, -3.8960e-03,\n",
      "        -1.7193e-02,  2.2397e-02, -3.4790e-02, -2.5650e-02, -8.2347e-03,\n",
      "        -1.2275e-02,  2.7542e-02,  9.5101e-03, -2.4569e-02,  2.7201e-02,\n",
      "         2.8516e-02,  2.0888e-03,  3.0707e-02,  2.6437e-02, -1.2080e-02,\n",
      "         2.0896e-02,  1.1580e-04,  1.6788e-02,  2.0297e-02,  1.7723e-03,\n",
      "        -1.7528e-03,  2.6266e-02, -1.4501e-02, -3.4407e-02,  2.6020e-02,\n",
      "         1.5256e-02,  1.5284e-02, -3.8871e-03,  2.2556e-03, -3.2479e-02,\n",
      "        -9.0145e-03, -2.1292e-02, -3.0998e-02,  1.1024e-02,  1.8234e-02,\n",
      "        -1.9900e-02,  1.2834e-02, -3.0858e-02, -1.3645e-03,  2.8259e-02,\n",
      "         2.4415e-03, -1.5903e-02,  3.2963e-02, -2.5938e-02, -2.9792e-02,\n",
      "        -1.4520e-02,  1.4144e-02, -2.0743e-02, -8.4065e-03, -1.8755e-02,\n",
      "         3.1144e-02,  2.1336e-02,  2.8461e-02, -6.7945e-03, -1.3278e-02,\n",
      "         1.7867e-02,  2.8144e-02, -2.3423e-02,  3.6934e-03, -2.5958e-02,\n",
      "        -3.0495e-02, -1.0238e-02, -3.3290e-02,  3.8995e-03, -3.2401e-03,\n",
      "        -2.3931e-02, -1.0124e-02, -1.6296e-02, -2.7680e-02, -1.1558e-02,\n",
      "         1.3695e-03,  2.0842e-02,  2.9339e-02,  2.6938e-02, -2.0710e-02,\n",
      "        -3.2124e-02, -2.0388e-02,  2.4436e-02,  1.5300e-02, -2.4966e-02,\n",
      "        -3.4980e-02,  7.6069e-03,  2.7749e-02,  1.4136e-03, -3.3788e-02,\n",
      "         7.4569e-04, -3.3588e-02, -3.5366e-02, -1.7129e-02,  1.3299e-02,\n",
      "         3.4971e-02,  1.2779e-02, -1.1448e-02, -4.0989e-03, -1.0271e-02,\n",
      "        -1.3561e-02,  1.1802e-02,  9.6346e-03, -3.1891e-02, -3.3320e-03,\n",
      "         2.5375e-02, -4.2881e-04,  3.0872e-02, -3.2627e-02, -2.5209e-02,\n",
      "        -2.3998e-02,  8.0280e-03,  3.4646e-02,  3.5389e-02,  4.6391e-03,\n",
      "         3.0949e-02,  1.2904e-02,  1.3166e-02,  7.7800e-03, -1.8964e-02,\n",
      "         2.8736e-02,  3.3581e-02,  3.2567e-03, -2.7819e-02,  3.0544e-02,\n",
      "         3.0165e-02, -1.7046e-02,  2.9647e-02, -1.5801e-03,  2.3439e-02,\n",
      "         4.1065e-03,  1.3030e-02,  1.5639e-02, -4.9340e-03,  3.0641e-02,\n",
      "        -1.5032e-02,  1.0041e-02, -2.7904e-02,  3.5272e-02,  3.4859e-02,\n",
      "         1.3155e-02, -1.3264e-02,  5.8468e-03, -2.9689e-02, -1.7519e-02,\n",
      "         9.5681e-03, -1.1110e-02, -2.3186e-02, -7.0580e-03,  2.7495e-02,\n",
      "        -2.5067e-02,  3.0493e-02, -3.2023e-02,  3.2521e-02, -2.6858e-03,\n",
      "        -2.7679e-02,  7.4359e-03,  2.3794e-02,  1.8609e-02, -5.8339e-03,\n",
      "         2.1849e-02,  2.7095e-02, -7.8261e-03, -3.3730e-03,  2.6779e-03,\n",
      "         2.8949e-02, -3.1711e-02,  1.0106e-02, -6.2932e-03, -3.1051e-02,\n",
      "        -1.1550e-02,  8.8197e-03, -4.4973e-03, -3.3256e-02,  2.7702e-02,\n",
      "         1.9349e-02,  1.7686e-02,  7.8901e-03,  4.2748e-03, -6.3803e-03,\n",
      "        -1.9885e-02,  2.7538e-02,  3.1624e-02, -1.0998e-02, -1.2523e-02,\n",
      "        -1.8759e-02,  2.7130e-02, -4.5948e-03,  1.0671e-02, -1.7509e-02,\n",
      "         3.0995e-02,  1.8850e-02,  1.4516e-02, -4.7155e-04, -2.1630e-02,\n",
      "         2.7209e-03,  2.7418e-02, -3.1050e-02, -1.1176e-02,  2.2077e-02,\n",
      "         2.8880e-02,  1.4268e-02, -1.4542e-02, -2.9195e-02,  1.2018e-02,\n",
      "        -3.0897e-02,  2.0109e-02,  7.9046e-03, -2.4680e-02,  2.2453e-02,\n",
      "         2.2264e-02,  4.5142e-03,  3.9588e-03,  3.4290e-03,  3.5347e-02,\n",
      "        -1.4554e-02,  1.8398e-02,  1.4268e-02,  2.8656e-02, -8.3784e-04,\n",
      "         3.1443e-03, -1.0851e-02,  3.5007e-02,  1.4896e-02, -2.1071e-02,\n",
      "        -1.8488e-02,  8.4933e-03,  1.1898e-02, -2.2702e-02, -8.7354e-03,\n",
      "        -1.1667e-02,  1.5990e-04,  1.3443e-02, -1.5975e-02,  1.0042e-02,\n",
      "        -2.3406e-02,  2.5013e-05, -7.3096e-03,  2.4140e-02, -2.7465e-02,\n",
      "         1.6628e-02,  2.4527e-02,  1.9631e-02,  2.6730e-02,  1.3918e-02,\n",
      "        -3.1316e-02, -2.7564e-02,  2.1561e-02, -2.3265e-02, -3.0458e-03,\n",
      "         5.2987e-03, -5.1563e-03,  1.7458e-02, -1.0460e-03,  1.3482e-02,\n",
      "         2.6943e-02,  1.2094e-02, -3.1720e-02,  2.4345e-02,  4.5847e-03,\n",
      "        -6.8249e-03, -6.2091e-03,  3.2796e-02, -5.2384e-03,  3.0934e-02,\n",
      "        -1.3194e-05,  3.2533e-03, -8.0474e-03,  3.5259e-03, -1.5024e-02,\n",
      "         1.0089e-02, -9.8877e-03,  7.0653e-03, -8.6487e-03, -5.8642e-03,\n",
      "         7.4874e-03,  2.5678e-02,  1.2838e-02, -1.0446e-02, -3.0218e-02,\n",
      "         1.8944e-02, -1.5005e-02,  3.0596e-02, -1.8954e-02,  3.0068e-02,\n",
      "        -1.8712e-02, -3.0575e-02,  3.2803e-02, -1.1125e-03, -1.4902e-02,\n",
      "        -1.1140e-02,  1.0213e-02, -1.6465e-02, -2.2147e-02, -9.3018e-03,\n",
      "        -9.4231e-03, -3.2691e-02, -2.6510e-02, -1.4226e-03, -1.8861e-02,\n",
      "        -2.0499e-02, -5.5331e-03,  3.6597e-03,  1.0815e-02, -9.2105e-03,\n",
      "         1.1640e-03, -1.5984e-02], device='mps:0', requires_grad=True) \n",
      "\n"
     ]
    }
   ],
   "source": [
    "print(f\"First Linear weights: {model.linear_relu_stack[0].weight} \\n\")\n",
    "print(f\"First Linear biases: {model.linear_relu_stack[0].bias} \\n\")"
   ]
  },
  {
   "cell_type": "markdown",
   "metadata": {},
   "source": [
    "## Layers Breakdown"
   ]
  },
  {
   "cell_type": "code",
   "execution_count": 31,
   "metadata": {},
   "outputs": [
    {
     "name": "stdout",
     "output_type": "stream",
     "text": [
      "torch.Size([3, 28, 28])\n"
     ]
    }
   ],
   "source": [
    "input_image = torch.rand(3,28,28)\n",
    "print(input_image.size())"
   ]
  },
  {
   "cell_type": "code",
   "execution_count": 32,
   "metadata": {},
   "outputs": [
    {
     "name": "stdout",
     "output_type": "stream",
     "text": [
      "torch.Size([3, 784])\n"
     ]
    }
   ],
   "source": [
    "flatten = nn.Flatten()\n",
    "flat_image = flatten(input_image)\n",
    "print(flat_image.size())"
   ]
  },
  {
   "cell_type": "code",
   "execution_count": 33,
   "metadata": {},
   "outputs": [
    {
     "name": "stdout",
     "output_type": "stream",
     "text": [
      "torch.Size([3, 20])\n"
     ]
    }
   ],
   "source": [
    "layer1 = nn.Linear(in_features=28*28, out_features=20)\n",
    "hidden1 = layer1(flat_image)\n",
    "print(hidden1.size())"
   ]
  },
  {
   "cell_type": "code",
   "execution_count": 34,
   "metadata": {},
   "outputs": [
    {
     "name": "stdout",
     "output_type": "stream",
     "text": [
      "Before ReLU: tensor([[ 0.2002, -0.2451, -0.2622, -0.2436, -0.1526, -0.0698,  0.7661, -0.2043,\n",
      "         -0.5890,  0.0989,  0.1012,  0.2216, -0.0093, -0.7611, -0.0758,  0.5887,\n",
      "         -0.3490, -0.1654,  0.2605,  0.2229],\n",
      "        [ 0.3001, -0.0756,  0.1667, -0.5455, -0.0644,  0.0722,  0.8106, -0.5248,\n",
      "         -0.4934,  0.2588, -0.4740,  0.3194,  0.1706, -0.2033, -0.3236,  0.5526,\n",
      "         -0.0461, -0.3348,  0.3117,  0.3727],\n",
      "        [ 0.2459, -0.0321,  0.0894, -0.5004, -0.3707, -0.6600,  0.4325, -0.5829,\n",
      "         -0.0645,  0.2094,  0.0660,  0.4071,  0.2414, -0.5106, -0.1434,  0.3172,\n",
      "         -0.2105, -0.3958,  0.1265,  0.2590]], grad_fn=<AddmmBackward0>)\n",
      "\n",
      "\n",
      "After ReLU: tensor([[0.2002, 0.0000, 0.0000, 0.0000, 0.0000, 0.0000, 0.7661, 0.0000, 0.0000,\n",
      "         0.0989, 0.1012, 0.2216, 0.0000, 0.0000, 0.0000, 0.5887, 0.0000, 0.0000,\n",
      "         0.2605, 0.2229],\n",
      "        [0.3001, 0.0000, 0.1667, 0.0000, 0.0000, 0.0722, 0.8106, 0.0000, 0.0000,\n",
      "         0.2588, 0.0000, 0.3194, 0.1706, 0.0000, 0.0000, 0.5526, 0.0000, 0.0000,\n",
      "         0.3117, 0.3727],\n",
      "        [0.2459, 0.0000, 0.0894, 0.0000, 0.0000, 0.0000, 0.4325, 0.0000, 0.0000,\n",
      "         0.2094, 0.0660, 0.4071, 0.2414, 0.0000, 0.0000, 0.3172, 0.0000, 0.0000,\n",
      "         0.1265, 0.2590]], grad_fn=<ReluBackward0>)\n"
     ]
    }
   ],
   "source": [
    "print(f\"Before ReLU: {hidden1}\\n\\n\")\n",
    "hidden1 = nn.ReLU()(hidden1)\n",
    "print(f\"After ReLU: {hidden1}\")"
   ]
  },
  {
   "cell_type": "code",
   "execution_count": 35,
   "metadata": {},
   "outputs": [],
   "source": [
    "seq_modules = nn.Sequential(\n",
    "    flatten,\n",
    "    layer1,\n",
    "    nn.ReLU(),\n",
    "    nn.Linear(20, 10)\n",
    ")\n",
    "input_image = torch.rand(3,28,28)\n",
    "logits = seq_modules(input_image)"
   ]
  },
  {
   "cell_type": "code",
   "execution_count": 36,
   "metadata": {},
   "outputs": [],
   "source": [
    "softmax = nn.Softmax(dim=1)\n",
    "pred_probab = softmax(logits)"
   ]
  },
  {
   "cell_type": "code",
   "execution_count": 39,
   "metadata": {},
   "outputs": [
    {
     "data": {
      "text/plain": [
       "tensor([[ 0.2296, -0.2267, -0.0740,  0.0535, -0.2042,  0.3551, -0.0840,  0.0565,\n",
       "          0.1872, -0.2204],\n",
       "        [ 0.3107, -0.0522, -0.0347,  0.0273, -0.3234,  0.3541,  0.0387,  0.0520,\n",
       "          0.2230, -0.2811],\n",
       "        [ 0.3183, -0.0492, -0.1185,  0.0208, -0.2328,  0.2276,  0.0333, -0.0567,\n",
       "          0.3086, -0.2992]], grad_fn=<AddmmBackward0>)"
      ]
     },
     "execution_count": 39,
     "metadata": {},
     "output_type": "execute_result"
    }
   ],
   "source": [
    "logits"
   ]
  },
  {
   "cell_type": "code",
   "execution_count": 40,
   "metadata": {},
   "outputs": [
    {
     "data": {
      "text/plain": [
       "tensor([[0.1225, 0.0777, 0.0905, 0.1028, 0.0794, 0.1389, 0.0896, 0.1031, 0.1175,\n",
       "         0.0781],\n",
       "        [0.1293, 0.0899, 0.0915, 0.0974, 0.0686, 0.1350, 0.0985, 0.0998, 0.1184,\n",
       "         0.0715],\n",
       "        [0.1326, 0.0918, 0.0857, 0.0985, 0.0764, 0.1211, 0.0997, 0.0912, 0.1314,\n",
       "         0.0715]], grad_fn=<SoftmaxBackward0>)"
      ]
     },
     "execution_count": 40,
     "metadata": {},
     "output_type": "execute_result"
    }
   ],
   "source": [
    "pred_probab"
   ]
  },
  {
   "cell_type": "markdown",
   "metadata": {},
   "source": [
    "## Model Parameters"
   ]
  },
  {
   "cell_type": "code",
   "execution_count": 41,
   "metadata": {},
   "outputs": [
    {
     "name": "stdout",
     "output_type": "stream",
     "text": [
      "Model structure:  NeuralNetwork(\n",
      "  (flatten): Flatten(start_dim=1, end_dim=-1)\n",
      "  (linear_relu_stack): Sequential(\n",
      "    (0): Linear(in_features=784, out_features=512, bias=True)\n",
      "    (1): ReLU()\n",
      "    (2): Linear(in_features=512, out_features=512, bias=True)\n",
      "    (3): ReLU()\n",
      "    (4): Linear(in_features=512, out_features=10, bias=True)\n",
      "    (5): ReLU()\n",
      "  )\n",
      ") \n",
      "\n",
      "\n",
      "Layer: linear_relu_stack.0.weight | Size: torch.Size([512, 784]) | Values : tensor([[ 0.0102,  0.0016,  0.0197,  ...,  0.0343, -0.0204, -0.0353],\n",
      "        [ 0.0109, -0.0159,  0.0169,  ...,  0.0183,  0.0277, -0.0128]],\n",
      "       device='mps:0', grad_fn=<SliceBackward0>) \n",
      "\n",
      "Layer: linear_relu_stack.0.bias | Size: torch.Size([512]) | Values : tensor([-0.0053, -0.0171], device='mps:0', grad_fn=<SliceBackward0>) \n",
      "\n",
      "Layer: linear_relu_stack.2.weight | Size: torch.Size([512, 512]) | Values : tensor([[-0.0014, -0.0176,  0.0154,  ..., -0.0127,  0.0351,  0.0098],\n",
      "        [-0.0371,  0.0442, -0.0312,  ...,  0.0310,  0.0433, -0.0099]],\n",
      "       device='mps:0', grad_fn=<SliceBackward0>) \n",
      "\n",
      "Layer: linear_relu_stack.2.bias | Size: torch.Size([512]) | Values : tensor([ 0.0241, -0.0409], device='mps:0', grad_fn=<SliceBackward0>) \n",
      "\n",
      "Layer: linear_relu_stack.4.weight | Size: torch.Size([10, 512]) | Values : tensor([[ 0.0423,  0.0297,  0.0219,  ..., -0.0212,  0.0306, -0.0061],\n",
      "        [ 0.0363, -0.0339, -0.0373,  ..., -0.0291, -0.0257,  0.0003]],\n",
      "       device='mps:0', grad_fn=<SliceBackward0>) \n",
      "\n",
      "Layer: linear_relu_stack.4.bias | Size: torch.Size([10]) | Values : tensor([0.0175, 0.0088], device='mps:0', grad_fn=<SliceBackward0>) \n",
      "\n"
     ]
    }
   ],
   "source": [
    "print(\"Model structure: \", model, \"\\n\\n\")\n",
    "\n",
    "for name, param in model.named_parameters():\n",
    "    print(f\"Layer: {name} | Size: {param.size()} | Values : {param[:2]} \\n\")"
   ]
  },
  {
   "cell_type": "markdown",
   "metadata": {},
   "source": [
    "# Automatic Differentiation"
   ]
  },
  {
   "cell_type": "code",
   "execution_count": 42,
   "metadata": {},
   "outputs": [],
   "source": [
    "x = torch.ones(5)  # input tensor\n",
    "y = torch.zeros(3)  # expected output\n",
    "w = torch.randn(5, 3, requires_grad=True)\n",
    "b = torch.randn(3, requires_grad=True)\n",
    "z = torch.matmul(x, w)+b\n",
    "loss = torch.nn.functional.binary_cross_entropy_with_logits(z, y)"
   ]
  },
  {
   "cell_type": "markdown",
   "metadata": {},
   "source": [
    "## Gradient Functions"
   ]
  },
  {
   "cell_type": "code",
   "execution_count": 43,
   "metadata": {},
   "outputs": [
    {
     "name": "stdout",
     "output_type": "stream",
     "text": [
      "Gradient function for z = <AddBackward0 object at 0x177da8880>\n",
      "Gradient function for loss = <BinaryCrossEntropyWithLogitsBackward0 object at 0x177da8880>\n"
     ]
    }
   ],
   "source": [
    "print('Gradient function for z =',z.grad_fn)\n",
    "print('Gradient function for loss =', loss.grad_fn)"
   ]
  },
  {
   "cell_type": "markdown",
   "metadata": {},
   "source": [
    "## Computing Gradients"
   ]
  },
  {
   "cell_type": "code",
   "execution_count": 44,
   "metadata": {},
   "outputs": [
    {
     "name": "stdout",
     "output_type": "stream",
     "text": [
      "None\n",
      "None\n"
     ]
    }
   ],
   "source": [
    "print(w.grad)\n",
    "print(b.grad)"
   ]
  },
  {
   "cell_type": "code",
   "execution_count": 45,
   "metadata": {},
   "outputs": [
    {
     "name": "stdout",
     "output_type": "stream",
     "text": [
      "tensor([[0.0657, 0.0011, 0.1606],\n",
      "        [0.0657, 0.0011, 0.1606],\n",
      "        [0.0657, 0.0011, 0.1606],\n",
      "        [0.0657, 0.0011, 0.1606],\n",
      "        [0.0657, 0.0011, 0.1606]])\n",
      "tensor([0.0657, 0.0011, 0.1606])\n"
     ]
    }
   ],
   "source": [
    "loss.backward()\n",
    "print(w.grad)\n",
    "print(b.grad)"
   ]
  },
  {
   "cell_type": "markdown",
   "metadata": {},
   "source": [
    "## Disabling Gradient Tracking"
   ]
  },
  {
   "cell_type": "code",
   "execution_count": 46,
   "metadata": {},
   "outputs": [
    {
     "data": {
      "text/plain": [
       "True"
      ]
     },
     "execution_count": 46,
     "metadata": {},
     "output_type": "execute_result"
    }
   ],
   "source": [
    "z = torch.matmul(x, w)+b\n",
    "z.requires_grad"
   ]
  },
  {
   "cell_type": "code",
   "execution_count": 47,
   "metadata": {},
   "outputs": [
    {
     "name": "stdout",
     "output_type": "stream",
     "text": [
      "False\n"
     ]
    }
   ],
   "source": [
    "with torch.no_grad():\n",
    "    z = torch.matmul(x, w)+b\n",
    "print(z.requires_grad)"
   ]
  },
  {
   "cell_type": "code",
   "execution_count": 48,
   "metadata": {},
   "outputs": [
    {
     "name": "stdout",
     "output_type": "stream",
     "text": [
      "False\n"
     ]
    }
   ],
   "source": [
    "# Another way\n",
    "\n",
    "z = torch.matmul(x, w)+b\n",
    "z_det = z.detach()\n",
    "print(z_det.requires_grad)"
   ]
  },
  {
   "cell_type": "markdown",
   "metadata": {},
   "source": [
    "## Tensor Gradients and Jacobian Products"
   ]
  },
  {
   "cell_type": "code",
   "execution_count": 49,
   "metadata": {},
   "outputs": [
    {
     "name": "stdout",
     "output_type": "stream",
     "text": [
      "First call\n",
      " tensor([[4., 2., 2., 2., 2.],\n",
      "        [2., 4., 2., 2., 2.],\n",
      "        [2., 2., 4., 2., 2.],\n",
      "        [2., 2., 2., 4., 2.],\n",
      "        [2., 2., 2., 2., 4.]])\n",
      "\n",
      "Second call\n",
      " tensor([[8., 4., 4., 4., 4.],\n",
      "        [4., 8., 4., 4., 4.],\n",
      "        [4., 4., 8., 4., 4.],\n",
      "        [4., 4., 4., 8., 4.],\n",
      "        [4., 4., 4., 4., 8.]])\n",
      "\n",
      "Call after zeroing gradients\n",
      " tensor([[4., 2., 2., 2., 2.],\n",
      "        [2., 4., 2., 2., 2.],\n",
      "        [2., 2., 4., 2., 2.],\n",
      "        [2., 2., 2., 4., 2.],\n",
      "        [2., 2., 2., 2., 4.]])\n"
     ]
    }
   ],
   "source": [
    "inp = torch.eye(5, requires_grad=True)\n",
    "out = (inp+1).pow(2)\n",
    "out.backward(torch.ones_like(inp), retain_graph=True)\n",
    "print(\"First call\\n\", inp.grad)\n",
    "\n",
    "out.backward(torch.ones_like(inp), retain_graph=True)\n",
    "print(\"\\nSecond call\\n\", inp.grad)\n",
    "\n",
    "inp.grad.zero_()\n",
    "out.backward(torch.ones_like(inp), retain_graph=True)\n",
    "print(\"\\nCall after zeroing gradients\\n\", inp.grad)"
   ]
  },
  {
   "cell_type": "markdown",
   "metadata": {},
   "source": [
    "# Optimization Loop"
   ]
  },
  {
   "cell_type": "code",
   "execution_count": 50,
   "metadata": {},
   "outputs": [],
   "source": [
    "training_data = datasets.FashionMNIST(\n",
    "    root=\"data\",\n",
    "    train=True,\n",
    "    download=True,\n",
    "    transform=ToTensor()\n",
    ")\n",
    "\n",
    "test_data = datasets.FashionMNIST(\n",
    "    root=\"data\",\n",
    "    train=False,\n",
    "    download=True,\n",
    "    transform=ToTensor()\n",
    ")\n",
    "\n",
    "train_dataloader = DataLoader(training_data, batch_size=64)\n",
    "test_dataloader = DataLoader(test_data, batch_size=64)\n",
    "\n",
    "class NeuralNetwork(nn.Module):\n",
    "    def __init__(self):\n",
    "        super(NeuralNetwork, self).__init__()\n",
    "        self.flatten = nn.Flatten()\n",
    "        self.linear_relu_stack = nn.Sequential(\n",
    "            nn.Linear(28*28, 512),\n",
    "            nn.ReLU(),\n",
    "            nn.Linear(512, 512),\n",
    "            nn.ReLU(),\n",
    "            nn.Linear(512, 10),\n",
    "            nn.ReLU()\n",
    "        )\n",
    "\n",
    "    def forward(self, x):\n",
    "        x = self.flatten(x)\n",
    "        logits = self.linear_relu_stack(x)\n",
    "        return logits\n",
    "\n",
    "model = NeuralNetwork()"
   ]
  },
  {
   "cell_type": "markdown",
   "metadata": {},
   "source": [
    "## Setting Hyperparameters"
   ]
  },
  {
   "cell_type": "markdown",
   "metadata": {},
   "source": [
    "* Number of Epochs: The number times the entire training dataset is passed through the network.\n",
    "* Batch Size: The number of data samples the model sees in each epoch. This iterates over the number of batches needed to complete an epoch.\n",
    "* Learning Rate: The size of steps that the model matches as it searches for the best weights that will produce a higher model accuracy. Smaller values mean the model takes longer to find the best weights. Larger values might result in the model stepping over and missing the best weights, which yields unpredictable behavior during training."
   ]
  },
  {
   "cell_type": "code",
   "execution_count": 51,
   "metadata": {},
   "outputs": [],
   "source": [
    "learning_rate = 1e-3\n",
    "batch_size = 64\n",
    "epochs = 5"
   ]
  },
  {
   "cell_type": "markdown",
   "metadata": {},
   "source": [
    "## Train and Test Loops"
   ]
  },
  {
   "cell_type": "markdown",
   "metadata": {},
   "source": [
    "* The Train Loop: Iterates over the training dataset and tries to converge to optimal parameters.\n",
    "* The Validation/Test Loop: Iterates over the test dataset to check if model performance is improving.\n",
    "\n",
    "<br>\n",
    "<br>\n",
    "\n",
    "Common loss functions include:\n",
    "\n",
    "* nn.MSELoss: Mean Square Error, used for regression tasks.\n",
    "* nn.NLLLoss: Negative Log Likelihood, used for classification.\n",
    "* nn.CrossEntropyLoss: Combines nn.LogSoftmax and nn.NLLLoss.\n",
    "\n",
    "<br>\n",
    "<br>\n",
    "\n",
    "Inside the training loop, optimization happens in three steps:\n",
    "\n",
    "1. Call optimizer.zero_grad() to reset the gradients of model parameters. Gradients by default add up; to prevent double-counting, we explicitly zero them at each iteration.\n",
    "2. Back-propagate the prediction loss with a call to loss.backwards(). PyTorch deposits the gradients of the loss with respect to each parameter.\n",
    "3. Once we have our gradients, we call optimizer.step() to adjust the parameters by the gradients collected in the backward pass."
   ]
  },
  {
   "cell_type": "code",
   "execution_count": 52,
   "metadata": {},
   "outputs": [],
   "source": [
    "def train_loop(dataloader, model, loss_fn, optimizer):\n",
    "    size = len(dataloader.dataset)\n",
    "    for batch, (X, y) in enumerate(dataloader):        \n",
    "        # Compute prediction and loss\n",
    "        pred = model(X)\n",
    "        loss = loss_fn(pred, y)\n",
    "        \n",
    "        # Backpropagation\n",
    "        optimizer.zero_grad()\n",
    "        loss.backward()\n",
    "        optimizer.step()\n",
    "\n",
    "        if batch % 100 == 0:\n",
    "            loss, current = loss.item(), batch * len(X)\n",
    "            print(f\"loss: {loss:>7f}  [{current:>5d}/{size:>5d}]\")\n",
    "\n",
    "\n",
    "def test_loop(dataloader, model, loss_fn):\n",
    "    size = len(dataloader.dataset)\n",
    "    test_loss, correct = 0, 0\n",
    "\n",
    "    with torch.no_grad():\n",
    "        for X, y in dataloader:\n",
    "            pred = model(X)\n",
    "            test_loss += loss_fn(pred, y).item()\n",
    "            correct += (pred.argmax(1) == y).type(torch.float).sum().item()\n",
    "            \n",
    "    test_loss /= size\n",
    "    correct /= size\n",
    "    print(f\"Test Error: \\n Accuracy: {(100*correct):>0.1f}%, Avg loss: {test_loss:>8f} \\n\")"
   ]
  },
  {
   "cell_type": "code",
   "execution_count": 53,
   "metadata": {},
   "outputs": [
    {
     "name": "stdout",
     "output_type": "stream",
     "text": [
      "Epoch 1\n",
      "-------------------------------\n",
      "loss: 2.306779  [    0/60000]\n",
      "loss: 2.303441  [ 6400/60000]\n",
      "loss: 2.288326  [12800/60000]\n",
      "loss: 2.284169  [19200/60000]\n",
      "loss: 2.285147  [25600/60000]\n",
      "loss: 2.260109  [32000/60000]\n",
      "loss: 2.264499  [38400/60000]\n",
      "loss: 2.246955  [44800/60000]\n",
      "loss: 2.232064  [51200/60000]\n",
      "loss: 2.211804  [57600/60000]\n",
      "Test Error: \n",
      " Accuracy: 38.7%, Avg loss: 0.034943 \n",
      "\n",
      "Epoch 2\n",
      "-------------------------------\n",
      "loss: 2.222986  [    0/60000]\n",
      "loss: 2.240163  [ 6400/60000]\n",
      "loss: 2.205508  [12800/60000]\n",
      "loss: 2.212583  [19200/60000]\n",
      "loss: 2.210191  [25600/60000]\n",
      "loss: 2.155017  [32000/60000]\n",
      "loss: 2.168262  [38400/60000]\n",
      "loss: 2.134649  [44800/60000]\n",
      "loss: 2.101915  [51200/60000]\n",
      "loss: 2.075234  [57600/60000]\n",
      "Test Error: \n",
      " Accuracy: 42.2%, Avg loss: 0.033076 \n",
      "\n",
      "Epoch 3\n",
      "-------------------------------\n",
      "loss: 2.096137  [    0/60000]\n",
      "loss: 2.140226  [ 6400/60000]\n",
      "loss: 2.073942  [12800/60000]\n",
      "loss: 2.093557  [19200/60000]\n",
      "loss: 2.093020  [25600/60000]\n",
      "loss: 1.997472  [32000/60000]\n",
      "loss: 2.009965  [38400/60000]\n",
      "loss: 1.952029  [44800/60000]\n",
      "loss: 1.896849  [51200/60000]\n",
      "loss: 1.867907  [57600/60000]\n",
      "Test Error: \n",
      " Accuracy: 43.7%, Avg loss: 0.030249 \n",
      "\n",
      "Epoch 4\n",
      "-------------------------------\n",
      "loss: 1.903461  [    0/60000]\n",
      "loss: 1.987843  [ 6400/60000]\n",
      "loss: 1.870737  [12800/60000]\n",
      "loss: 1.915080  [19200/60000]\n",
      "loss: 1.913002  [25600/60000]\n",
      "loss: 1.758468  [32000/60000]\n",
      "loss: 1.778241  [38400/60000]\n",
      "loss: 1.674324  [44800/60000]\n",
      "loss: 1.658228  [51200/60000]\n",
      "loss: 1.587969  [57600/60000]\n",
      "Test Error: \n",
      " Accuracy: 51.0%, Avg loss: 0.026504 \n",
      "\n",
      "Epoch 5\n",
      "-------------------------------\n",
      "loss: 1.651594  [    0/60000]\n",
      "loss: 1.766689  [ 6400/60000]\n",
      "loss: 1.605379  [12800/60000]\n",
      "loss: 1.731022  [19200/60000]\n",
      "loss: 1.681705  [25600/60000]\n",
      "loss: 1.491170  [32000/60000]\n",
      "loss: 1.563788  [38400/60000]\n",
      "loss: 1.418192  [44800/60000]\n",
      "loss: 1.484504  [51200/60000]\n",
      "loss: 1.377818  [57600/60000]\n",
      "Test Error: \n",
      " Accuracy: 56.1%, Avg loss: 0.023727 \n",
      "\n",
      "Epoch 6\n",
      "-------------------------------\n",
      "loss: 1.460232  [    0/60000]\n",
      "loss: 1.602176  [ 6400/60000]\n",
      "loss: 1.417628  [12800/60000]\n",
      "loss: 1.609661  [19200/60000]\n",
      "loss: 1.536137  [25600/60000]\n",
      "loss: 1.323972  [32000/60000]\n",
      "loss: 1.430800  [38400/60000]\n",
      "loss: 1.265006  [44800/60000]\n",
      "loss: 1.380828  [51200/60000]\n",
      "loss: 1.256797  [57600/60000]\n",
      "Test Error: \n",
      " Accuracy: 56.8%, Avg loss: 0.022018 \n",
      "\n",
      "Epoch 7\n",
      "-------------------------------\n",
      "loss: 1.344316  [    0/60000]\n",
      "loss: 1.501500  [ 6400/60000]\n",
      "loss: 1.297541  [12800/60000]\n",
      "loss: 1.523914  [19200/60000]\n",
      "loss: 1.446119  [25600/60000]\n",
      "loss: 1.223954  [32000/60000]\n",
      "loss: 1.344152  [38400/60000]\n",
      "loss: 1.170522  [44800/60000]\n",
      "loss: 1.312254  [51200/60000]\n",
      "loss: 1.177728  [57600/60000]\n",
      "Test Error: \n",
      " Accuracy: 57.3%, Avg loss: 0.020817 \n",
      "\n",
      "Epoch 8\n",
      "-------------------------------\n",
      "loss: 1.266106  [    0/60000]\n",
      "loss: 1.430676  [ 6400/60000]\n",
      "loss: 1.207894  [12800/60000]\n",
      "loss: 1.454545  [19200/60000]\n",
      "loss: 1.380642  [25600/60000]\n",
      "loss: 1.153925  [32000/60000]\n",
      "loss: 1.281921  [38400/60000]\n",
      "loss: 1.105012  [44800/60000]\n",
      "loss: 1.262912  [51200/60000]\n",
      "loss: 1.121136  [57600/60000]\n",
      "Test Error: \n",
      " Accuracy: 57.5%, Avg loss: 0.019911 \n",
      "\n",
      "Epoch 9\n",
      "-------------------------------\n",
      "loss: 1.208627  [    0/60000]\n",
      "loss: 1.377473  [ 6400/60000]\n",
      "loss: 1.139239  [12800/60000]\n",
      "loss: 1.397551  [19200/60000]\n",
      "loss: 1.331842  [25600/60000]\n",
      "loss: 1.101670  [32000/60000]\n",
      "loss: 1.235752  [38400/60000]\n",
      "loss: 1.057469  [44800/60000]\n",
      "loss: 1.227401  [51200/60000]\n",
      "loss: 1.079651  [57600/60000]\n",
      "Test Error: \n",
      " Accuracy: 57.7%, Avg loss: 0.019229 \n",
      "\n",
      "Epoch 10\n",
      "-------------------------------\n",
      "loss: 1.164746  [    0/60000]\n",
      "loss: 1.336857  [ 6400/60000]\n",
      "loss: 1.086913  [12800/60000]\n",
      "loss: 1.352326  [19200/60000]\n",
      "loss: 1.296963  [25600/60000]\n",
      "loss: 1.062278  [32000/60000]\n",
      "loss: 1.201726  [38400/60000]\n",
      "loss: 1.022501  [44800/60000]\n",
      "loss: 1.200653  [51200/60000]\n",
      "loss: 1.047869  [57600/60000]\n",
      "Test Error: \n",
      " Accuracy: 58.0%, Avg loss: 0.018718 \n",
      "\n",
      "Done!\n"
     ]
    }
   ],
   "source": [
    "loss_fn = nn.CrossEntropyLoss()\n",
    "optimizer = torch.optim.SGD(model.parameters(), lr=learning_rate)\n",
    "\n",
    "epochs = 10\n",
    "for t in range(epochs):\n",
    "    print(f\"Epoch {t+1}\\n-------------------------------\")\n",
    "    train_loop(train_dataloader, model, loss_fn, optimizer)\n",
    "    test_loop(test_dataloader, model, loss_fn)\n",
    "print(\"Done!\")"
   ]
  },
  {
   "cell_type": "markdown",
   "metadata": {},
   "source": [
    "## Save Model"
   ]
  },
  {
   "cell_type": "code",
   "execution_count": 54,
   "metadata": {},
   "outputs": [
    {
     "name": "stdout",
     "output_type": "stream",
     "text": [
      "Saved PyTorch Model State to model.pth\n"
     ]
    }
   ],
   "source": [
    "torch.save(model.state_dict(), \"model/model.pth\")\n",
    "print(\"Saved PyTorch Model State to model.pth\")"
   ]
  },
  {
   "cell_type": "markdown",
   "metadata": {},
   "source": [
    "# Loading and Running Predictions"
   ]
  },
  {
   "cell_type": "code",
   "execution_count": 55,
   "metadata": {},
   "outputs": [],
   "source": [
    "import onnxruntime\n",
    "import torch.onnx as onnx"
   ]
  },
  {
   "cell_type": "code",
   "execution_count": 56,
   "metadata": {},
   "outputs": [
    {
     "name": "stderr",
     "output_type": "stream",
     "text": [
      "/var/folders/7p/_l5kmmts4m3886n2ycnm87380000gn/T/ipykernel_8799/2223051616.py:2: FutureWarning: You are using `torch.load` with `weights_only=False` (the current default value), which uses the default pickle module implicitly. It is possible to construct malicious pickle data which will execute arbitrary code during unpickling (See https://github.com/pytorch/pytorch/blob/main/SECURITY.md#untrusted-models for more details). In a future release, the default value for `weights_only` will be flipped to `True`. This limits the functions that could be executed during unpickling. Arbitrary objects will no longer be allowed to be loaded via this mode unless they are explicitly allowlisted by the user via `torch.serialization.add_safe_globals`. We recommend you start setting `weights_only=True` for any use case where you don't have full control of the loaded file. Please open an issue on GitHub for any issues related to this experimental feature.\n",
      "  model.load_state_dict(torch.load('model/model.pth'))\n"
     ]
    },
    {
     "data": {
      "text/plain": [
       "NeuralNetwork(\n",
       "  (flatten): Flatten(start_dim=1, end_dim=-1)\n",
       "  (linear_relu_stack): Sequential(\n",
       "    (0): Linear(in_features=784, out_features=512, bias=True)\n",
       "    (1): ReLU()\n",
       "    (2): Linear(in_features=512, out_features=512, bias=True)\n",
       "    (3): ReLU()\n",
       "    (4): Linear(in_features=512, out_features=10, bias=True)\n",
       "    (5): ReLU()\n",
       "  )\n",
       ")"
      ]
     },
     "execution_count": 56,
     "metadata": {},
     "output_type": "execute_result"
    }
   ],
   "source": [
    "model = NeuralNetwork()\n",
    "model.load_state_dict(torch.load('model/model.pth'))\n",
    "model.eval()"
   ]
  },
  {
   "cell_type": "code",
   "execution_count": 58,
   "metadata": {},
   "outputs": [],
   "source": [
    "input_image = torch.zeros((1,28,28))\n",
    "onnx_model = 'model/model.onnx'\n",
    "onnx.export(model, input_image, onnx_model)"
   ]
  },
  {
   "cell_type": "code",
   "execution_count": 59,
   "metadata": {},
   "outputs": [],
   "source": [
    "test_data = datasets.FashionMNIST(\n",
    "    root=\"data\",\n",
    "    train=False,\n",
    "    download=True,\n",
    "    transform=ToTensor()\n",
    ")\n",
    "\n",
    "classes = [\n",
    "    \"T-shirt/top\",\n",
    "    \"Trouser\",\n",
    "    \"Pullover\",\n",
    "    \"Dress\",\n",
    "    \"Coat\",\n",
    "    \"Sandal\",\n",
    "    \"Shirt\",\n",
    "    \"Sneaker\",\n",
    "    \"Bag\",\n",
    "    \"Ankle boot\",\n",
    "]\n",
    "x, y = test_data[0][0], test_data[0][1]"
   ]
  },
  {
   "cell_type": "code",
   "execution_count": 60,
   "metadata": {},
   "outputs": [
    {
     "name": "stdout",
     "output_type": "stream",
     "text": [
      "Predicted: \"Ankle boot\", Actual: \"Ankle boot\"\n"
     ]
    }
   ],
   "source": [
    "session = onnxruntime.InferenceSession(onnx_model, None)\n",
    "input_name = session.get_inputs()[0].name\n",
    "output_name = session.get_outputs()[0].name\n",
    "\n",
    "result = session.run([output_name], {input_name: x.numpy()})\n",
    "predicted, actual = classes[result[0][0].argmax(0)], classes[y]\n",
    "print(f'Predicted: \"{predicted}\", Actual: \"{actual}\"')"
   ]
  }
 ],
 "metadata": {
  "kernelspec": {
   "display_name": "gnnbctfd",
   "language": "python",
   "name": "python3"
  },
  "language_info": {
   "codemirror_mode": {
    "name": "ipython",
    "version": 3
   },
   "file_extension": ".py",
   "mimetype": "text/x-python",
   "name": "python",
   "nbconvert_exporter": "python",
   "pygments_lexer": "ipython3",
   "version": "3.12.4"
  }
 },
 "nbformat": 4,
 "nbformat_minor": 2
}
